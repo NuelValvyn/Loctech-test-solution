{
 "cells": [
  {
   "cell_type": "code",
   "execution_count": 4,
   "id": "dfac5a83",
   "metadata": {},
   "outputs": [],
   "source": [
    "# Import the library for data analysis\n",
    "import pandas as pd\n",
    "import numpy as np\n",
    "import seaborn as sns\n",
    "import matplotlib as mpl\n",
    "import matplotlib.pyplot as plt"
   ]
  },
  {
   "cell_type": "code",
   "execution_count": 2,
   "id": "c0c2836d",
   "metadata": {},
   "outputs": [
    {
     "name": "stdout",
     "output_type": "stream",
     "text": [
      "    customer_id     customer_name           city\n",
      "0        789201        Mega Fresh          Lagos\n",
      "1        789202        Mega Fresh  Port Harcourt\n",
      "2        789203        Mega Fresh         Ibadan\n",
      "3        789301   Downtown Stores          Lagos\n",
      "4        789303   Downtown Stores         Ibadan\n",
      "5        789101       Mike Stores          Lagos\n",
      "6        789102       Mike Stores  Port Harcourt\n",
      "7        789103       Mike Stores         Ibadan\n",
      "8        789121          Coolblue  Port Harcourt\n",
      "9        789122          Coolblue         Ibadan\n",
      "10       789220      Atlas Stores          Lagos\n",
      "11       789221      Atlas Stores  Port Harcourt\n",
      "12       789320    Chiptec Stores          Lagos\n",
      "13       789321    Chiptec Stores  Port Harcourt\n",
      "14       789401       Propel Mart          Lagos\n",
      "15       789402       Propel Mart  Port Harcourt\n",
      "16       789403       Propel Mart         Ibadan\n",
      "17       789420        Lotus Mart          Lagos\n",
      "18       789421        Lotus Mart  Port Harcourt\n",
      "19       789422        Lotus Mart         Ibadan\n",
      "20       789501     Brands Stores          Lagos\n",
      "21       789503     Brands Stores         Ibadan\n",
      "22       789520  Acclaimed Stores          Lagos\n",
      "23       789521  Acclaimed Stores  Port Harcourt\n",
      "24       789522  Acclaimed Stores         Ibadan\n",
      "25       789601       Info Stores          Lagos\n",
      "26       789603       Info Stores         Ibadan\n",
      "27       789702        Royal Mart  Port Harcourt\n",
      "28       789703        Royal Mart         Ibadan\n",
      "29       789621       Expert Mart  Port Harcourt\n",
      "30       789622       Expert Mart         Ibadan\n",
      "31       789720      Logic Stores          Lagos\n",
      "32       789721      Logic Stores  Port Harcourt\n",
      "33       789902        Elite Mart  Port Harcourt\n",
      "34       789903        Elite Mart         Ibadan\n"
     ]
    }
   ],
   "source": [
    "# Load the customer order data into a pandas DataFrame\n",
    "data = pd.read_csv('dim_customers.csv')\n",
    "print(data)"
   ]
  },
  {
   "cell_type": "code",
   "execution_count": 17,
   "id": "5a495480",
   "metadata": {},
   "outputs": [
    {
     "name": "stdout",
     "output_type": "stream",
     "text": [
      "            order_id  customer_id order_placement_date  on_time  in_full  otif\n",
      "0        FMR32103503       789103            01-Mar-22        1        0     0\n",
      "1        FMR34103403       789103            01-Mar-22        1        0     0\n",
      "2        FMR32103602       789103            01-Mar-22        1        0     0\n",
      "3        FMR33103602       789103            01-Mar-22        1        0     0\n",
      "4        FMR33103401       789103            01-Mar-22        1        0     0\n",
      "...              ...          ...                  ...      ...      ...   ...\n",
      "31724  FAUG831121302       789121            30-Aug-22        1        1     1\n",
      "31725  FAUG831421102       789421            30-Aug-22        1        1     1\n",
      "31726  FAUG831122203       789122            30-Aug-22        1        1     1\n",
      "31727  FAUG831303403       789303            30-Aug-22        1        1     1\n",
      "31728  FAUG831703602       789703            30-Aug-22        1        1     1\n",
      "\n",
      "[31729 rows x 6 columns]\n"
     ]
    }
   ],
   "source": [
    "data2 = pd.read_csv('fact_orders_aggregate.csv')\n",
    "print(data2)"
   ]
  },
  {
   "cell_type": "code",
   "execution_count": 9,
   "id": "6a6a1c3f",
   "metadata": {},
   "outputs": [
    {
     "name": "stdout",
     "output_type": "stream",
     "text": [
      "            order_id      order_placement_date  customer_id  product_id  \\\n",
      "0        FMR34203601    Tuesday, March 1, 2022       789203    25891601   \n",
      "1        FMR32320302    Tuesday, March 1, 2022       789320    25891203   \n",
      "2        FMR33320501    Tuesday, March 1, 2022       789320    25891203   \n",
      "3        FMR34220601    Tuesday, March 1, 2022       789220    25891203   \n",
      "4        FMR33703603    Tuesday, March 1, 2022       789703    25891203   \n",
      "...              ...                       ...          ...         ...   \n",
      "57091  FAUG831420303  Tuesday, August 30, 2022       789420    25891303   \n",
      "57092  FAUG831122303  Tuesday, August 30, 2022       789122    25891303   \n",
      "57093  FAUG831702303  Tuesday, August 30, 2022       789702    25891303   \n",
      "57094  FAUG831221503  Tuesday, August 30, 2022       789221    25891303   \n",
      "57095  FAUG831202303  Tuesday, August 30, 2022       789202    25891303   \n",
      "\n",
      "       order_qty        agreed_delivery_date         actual_delivery_date  \\\n",
      "0            110       Friday, March 4, 2022        Friday, March 4, 2022   \n",
      "1            347    Wednesday, March 2, 2022     Wednesday, March 2, 2022   \n",
      "2            187     Thursday, March 3, 2022      Thursday, March 3, 2022   \n",
      "3            235       Friday, March 4, 2022        Friday, March 4, 2022   \n",
      "4            176     Thursday, March 3, 2022      Thursday, March 3, 2022   \n",
      "...          ...                         ...                          ...   \n",
      "57091         24  Wednesday, August 31, 2022     Tuesday, August 30, 2022   \n",
      "57092         67  Wednesday, August 31, 2022   Wednesday, August 31, 2022   \n",
      "57093         41  Wednesday, August 31, 2022     Tuesday, August 30, 2022   \n",
      "57094         92  Wednesday, August 31, 2022   Wednesday, August 31, 2022   \n",
      "57095         29  Wednesday, August 31, 2022  Thursday, September 1, 2022   \n",
      "\n",
      "       delivery_qty  In Full  On Time  On Time In Full  \n",
      "0               110        1        1                1  \n",
      "1               347        1        1                1  \n",
      "2               150        0        1                0  \n",
      "3               235        1        1                1  \n",
      "4               176        1        1                1  \n",
      "...             ...      ...      ...              ...  \n",
      "57091            24        1        1                1  \n",
      "57092            54        0        1                0  \n",
      "57093            37        0        1                0  \n",
      "57094            83        0        1                0  \n",
      "57095            29        1        0                0  \n",
      "\n",
      "[57096 rows x 11 columns]\n"
     ]
    }
   ],
   "source": [
    "data3 = pd.read_csv('fact_order_lines.csv')\n",
    "print(data3)"
   ]
  },
  {
   "cell_type": "code",
   "execution_count": 11,
   "id": "b733f3d0",
   "metadata": {},
   "outputs": [
    {
     "name": "stdout",
     "output_type": "stream",
     "text": [
      "64.79963570127505\n"
     ]
    }
   ],
   "source": [
    "# Calculate the on-time delivery percentage (OT%)\n",
    "data3['On_Time'] = (data3['agreed_delivery_date'] == data3['actual_delivery_date']).astype(int)\n",
    "on_time_percentage = data3['On_Time'].mean() * 100\n",
    "print(on_time_percentage)"
   ]
  },
  {
   "cell_type": "code",
   "execution_count": 12,
   "id": "c2f47684",
   "metadata": {},
   "outputs": [
    {
     "name": "stdout",
     "output_type": "stream",
     "text": [
      "65.96083788706738\n"
     ]
    }
   ],
   "source": [
    "# Calculate the in-full delivery percentage (IF%)\n",
    "data3['In_Full'] = (data3['order_qty'] == data3['delivery_qty']).astype(int)\n",
    "in_full_percentage = data3['In_Full'].mean() * 100\n",
    "print(in_full_percentage)"
   ]
  },
  {
   "cell_type": "code",
   "execution_count": 13,
   "id": "d497a5c3",
   "metadata": {},
   "outputs": [
    {
     "name": "stdout",
     "output_type": "stream",
     "text": [
      "48.57142857142857\n"
     ]
    },
    {
     "name": "stderr",
     "output_type": "stream",
     "text": [
      "C:\\Users\\User\\AppData\\Local\\Temp\\ipykernel_7676\\3727577897.py:2: UserWarning: Boolean Series key will be reindexed to match DataFrame index.\n",
      "  otif_percentage = data[(data3['On_Time'] == 1) & (data3['In_Full'] == 1)].shape[0] / data.shape[0] * 100\n"
     ]
    }
   ],
   "source": [
    "# Calculate the on-time in-full delivery percentage (OTIF%)\n",
    "otif_percentage = data[(data3['On_Time'] == 1) & (data3['In_Full'] == 1)].shape[0] / data.shape[0] * 100\n",
    "print(otif_percentage)"
   ]
  },
  {
   "cell_type": "code",
   "execution_count": 14,
   "id": "400f0b65",
   "metadata": {},
   "outputs": [
    {
     "name": "stdout",
     "output_type": "stream",
     "text": [
      "31729\n"
     ]
    }
   ],
   "source": [
    "# Calculate the count of the total order lines\n",
    "total_order_lines = data3['order_id'].nunique()\n",
    "print(total_order_lines)"
   ]
  },
  {
   "cell_type": "code",
   "execution_count": 15,
   "id": "4ff61cce",
   "metadata": {},
   "outputs": [
    {
     "name": "stdout",
     "output_type": "stream",
     "text": [
      "103.5297513940189\n"
     ]
    }
   ],
   "source": [
    "# Calculate the line fill rate\n",
    "line_fill_rate = ((data3['order_qty'].sum() / data3['delivery_qty'].sum()) * 100)\n",
    "print(line_fill_rate)"
   ]
  },
  {
   "cell_type": "code",
   "execution_count": 16,
   "id": "a571a78d",
   "metadata": {},
   "outputs": [
    {
     "name": "stdout",
     "output_type": "stream",
     "text": [
      "103.5297513940189\n"
     ]
    }
   ],
   "source": [
    "# Calculate the volume fill rate\n",
    "volume_fill_rate = (data3['order_qty'].sum() / data3['delivery_qty'].sum()) * 100\n",
    "print(volume_fill_rate)"
   ]
  },
  {
   "cell_type": "code",
   "execution_count": 17,
   "id": "d78eff95",
   "metadata": {},
   "outputs": [
    {
     "name": "stdout",
     "output_type": "stream",
     "text": [
      "57096\n"
     ]
    }
   ],
   "source": [
    "# Calculate the total orders\n",
    "total_orders = len(data3['order_qty'])\n",
    "print(total_orders)"
   ]
  },
  {
   "cell_type": "code",
   "execution_count": 18,
   "id": "96d56202",
   "metadata": {},
   "outputs": [
    {
     "name": "stdout",
     "output_type": "stream",
     "text": [
      "    customer_id  ontime_target%  infull_target%  otif_target%\n",
      "0        789201              87              81            70\n",
      "1        789202              85              81            69\n",
      "2        789203              92              76            70\n",
      "3        789301              89              78            69\n",
      "4        789303              88              78            69\n",
      "5        789101              86              80            69\n",
      "6        789102              90              81            73\n",
      "7        789103              92              67            62\n",
      "8        789121              78              77            60\n",
      "9        789122              76              65            49\n",
      "10       789220              91              76            69\n",
      "11       789221              85              80            68\n",
      "12       789320              91              81            74\n",
      "13       789321              87              81            70\n",
      "14       789401              85              79            67\n",
      "15       789402              89              80            71\n",
      "16       789403              86              79            68\n",
      "17       789420              75              79            59\n",
      "18       789421              78              66            51\n",
      "19       789422              79              81            64\n",
      "20       789501              92              80            74\n",
      "21       789503              86              82            71\n",
      "22       789520              75              68            51\n",
      "23       789521              78              79            62\n",
      "24       789522              76              79            60\n",
      "25       789601              92              67            62\n",
      "26       789603              92              75            69\n",
      "27       789702              89              66            59\n",
      "28       789703              85              78            66\n",
      "29       789621              92              81            75\n",
      "30       789622              90              79            71\n",
      "31       789720              86              77            66\n",
      "32       789721              89              75            67\n",
      "33       789902              90              81            73\n",
      "34       789903              92              65            60\n"
     ]
    }
   ],
   "source": [
    "data4 = pd.read_csv('dim_targets_orders.csv')\n",
    "print(data4)"
   ]
  },
  {
   "cell_type": "code",
   "execution_count": 19,
   "id": "19b97750",
   "metadata": {},
   "outputs": [
    {
     "name": "stdout",
     "output_type": "stream",
     "text": [
      "86.08571428571429\n"
     ]
    }
   ],
   "source": [
    "# Calculate the average on-time target\n",
    "on_time_target = data4['ontime_target%'].mean()\n",
    "print(on_time_target)"
   ]
  },
  {
   "cell_type": "code",
   "execution_count": 20,
   "id": "96789008",
   "metadata": {},
   "outputs": [
    {
     "name": "stdout",
     "output_type": "stream",
     "text": [
      "76.51428571428572\n"
     ]
    }
   ],
   "source": [
    "# Calculate the average in-full target\n",
    "in_full_target = data4['infull_target%'].mean()\n",
    "print(in_full_target)"
   ]
  },
  {
   "cell_type": "code",
   "execution_count": 21,
   "id": "4b6b288b",
   "metadata": {},
   "outputs": [
    {
     "name": "stdout",
     "output_type": "stream",
     "text": [
      "65.91428571428571\n"
     ]
    }
   ],
   "source": [
    "# Calculate the on-time in-full target\n",
    "otif_target = data4['otif_target%'].mean()\n",
    "print(otif_target)"
   ]
  },
  {
   "cell_type": "code",
   "execution_count": 22,
   "id": "34f6e322",
   "metadata": {},
   "outputs": [],
   "source": [
    "# Create a dictionary to store the metrics\n",
    "metrics = {\n",
    "    'OT%': on_time_percentage,\n",
    "    'IF%': in_full_percentage,\n",
    "    'OTIF%': otif_percentage,\n",
    "    'Count of the Total Order Lines': total_order_lines,\n",
    "    'Line Fill Rate': line_fill_rate,\n",
    "    'Volume Fill Rate': volume_fill_rate,\n",
    "    'Total Orders': total_orders,\n",
    "    'On Time Target': on_time_target,\n",
    "    'In Full Target': in_full_target,\n",
    "    'On Time in Full Target': otif_target\n",
    "}"
   ]
  },
  {
   "cell_type": "code",
   "execution_count": 23,
   "id": "87555781",
   "metadata": {},
   "outputs": [
    {
     "name": "stdout",
     "output_type": "stream",
     "text": [
      "{'OT%': 64.79963570127505, 'IF%': 65.96083788706738, 'OTIF%': 48.57142857142857, 'Count of the Total Order Lines': 31729, 'Line Fill Rate': 103.5297513940189, 'Volume Fill Rate': 103.5297513940189, 'Total Orders': 57096, 'On Time Target': 86.08571428571429, 'In Full Target': 76.51428571428572, 'On Time in Full Target': 65.91428571428571}\n"
     ]
    }
   ],
   "source": [
    "print(metrics)"
   ]
  },
  {
   "cell_type": "code",
   "execution_count": 24,
   "id": "36c62b86",
   "metadata": {},
   "outputs": [
    {
     "ename": "KeyError",
     "evalue": "'OT%'",
     "output_type": "error",
     "traceback": [
      "\u001b[1;31m---------------------------------------------------------------------------\u001b[0m",
      "\u001b[1;31mKeyError\u001b[0m                                  Traceback (most recent call last)",
      "File \u001b[1;32m~\\anaconda3\\Lib\\site-packages\\pandas\\core\\indexes\\base.py:3802\u001b[0m, in \u001b[0;36mIndex.get_loc\u001b[1;34m(self, key, method, tolerance)\u001b[0m\n\u001b[0;32m   3801\u001b[0m \u001b[38;5;28;01mtry\u001b[39;00m:\n\u001b[1;32m-> 3802\u001b[0m     \u001b[38;5;28;01mreturn\u001b[39;00m \u001b[38;5;28mself\u001b[39m\u001b[38;5;241m.\u001b[39m_engine\u001b[38;5;241m.\u001b[39mget_loc(casted_key)\n\u001b[0;32m   3803\u001b[0m \u001b[38;5;28;01mexcept\u001b[39;00m \u001b[38;5;167;01mKeyError\u001b[39;00m \u001b[38;5;28;01mas\u001b[39;00m err:\n",
      "File \u001b[1;32m~\\anaconda3\\Lib\\site-packages\\pandas\\_libs\\index.pyx:138\u001b[0m, in \u001b[0;36mpandas._libs.index.IndexEngine.get_loc\u001b[1;34m()\u001b[0m\n",
      "File \u001b[1;32m~\\anaconda3\\Lib\\site-packages\\pandas\\_libs\\index.pyx:165\u001b[0m, in \u001b[0;36mpandas._libs.index.IndexEngine.get_loc\u001b[1;34m()\u001b[0m\n",
      "File \u001b[1;32mpandas\\_libs\\hashtable_class_helper.pxi:5745\u001b[0m, in \u001b[0;36mpandas._libs.hashtable.PyObjectHashTable.get_item\u001b[1;34m()\u001b[0m\n",
      "File \u001b[1;32mpandas\\_libs\\hashtable_class_helper.pxi:5753\u001b[0m, in \u001b[0;36mpandas._libs.hashtable.PyObjectHashTable.get_item\u001b[1;34m()\u001b[0m\n",
      "\u001b[1;31mKeyError\u001b[0m: 'OT%'",
      "\nThe above exception was the direct cause of the following exception:\n",
      "\u001b[1;31mKeyError\u001b[0m                                  Traceback (most recent call last)",
      "Cell \u001b[1;32mIn[24], line 10\u001b[0m\n\u001b[0;32m      7\u001b[0m plt\u001b[38;5;241m.\u001b[39mfigure(figsize\u001b[38;5;241m=\u001b[39m(\u001b[38;5;241m10\u001b[39m, \u001b[38;5;241m6\u001b[39m))\n\u001b[0;32m      9\u001b[0m \u001b[38;5;66;03m# Create the bar chart using data3['OT%']\u001b[39;00m\n\u001b[1;32m---> 10\u001b[0m plt\u001b[38;5;241m.\u001b[39mbar(data3[\u001b[38;5;124m'\u001b[39m\u001b[38;5;124mcustomer_id\u001b[39m\u001b[38;5;124m'\u001b[39m], data3[\u001b[38;5;124m'\u001b[39m\u001b[38;5;124mOT\u001b[39m\u001b[38;5;124m%\u001b[39m\u001b[38;5;124m'\u001b[39m])\n\u001b[0;32m     12\u001b[0m \u001b[38;5;66;03m# Label the axes\u001b[39;00m\n\u001b[0;32m     13\u001b[0m plt\u001b[38;5;241m.\u001b[39mxlabel(\u001b[38;5;124m'\u001b[39m\u001b[38;5;124mcustomer_id\u001b[39m\u001b[38;5;124m'\u001b[39m)\n",
      "File \u001b[1;32m~\\anaconda3\\Lib\\site-packages\\pandas\\core\\frame.py:3807\u001b[0m, in \u001b[0;36mDataFrame.__getitem__\u001b[1;34m(self, key)\u001b[0m\n\u001b[0;32m   3805\u001b[0m \u001b[38;5;28;01mif\u001b[39;00m \u001b[38;5;28mself\u001b[39m\u001b[38;5;241m.\u001b[39mcolumns\u001b[38;5;241m.\u001b[39mnlevels \u001b[38;5;241m>\u001b[39m \u001b[38;5;241m1\u001b[39m:\n\u001b[0;32m   3806\u001b[0m     \u001b[38;5;28;01mreturn\u001b[39;00m \u001b[38;5;28mself\u001b[39m\u001b[38;5;241m.\u001b[39m_getitem_multilevel(key)\n\u001b[1;32m-> 3807\u001b[0m indexer \u001b[38;5;241m=\u001b[39m \u001b[38;5;28mself\u001b[39m\u001b[38;5;241m.\u001b[39mcolumns\u001b[38;5;241m.\u001b[39mget_loc(key)\n\u001b[0;32m   3808\u001b[0m \u001b[38;5;28;01mif\u001b[39;00m is_integer(indexer):\n\u001b[0;32m   3809\u001b[0m     indexer \u001b[38;5;241m=\u001b[39m [indexer]\n",
      "File \u001b[1;32m~\\anaconda3\\Lib\\site-packages\\pandas\\core\\indexes\\base.py:3804\u001b[0m, in \u001b[0;36mIndex.get_loc\u001b[1;34m(self, key, method, tolerance)\u001b[0m\n\u001b[0;32m   3802\u001b[0m     \u001b[38;5;28;01mreturn\u001b[39;00m \u001b[38;5;28mself\u001b[39m\u001b[38;5;241m.\u001b[39m_engine\u001b[38;5;241m.\u001b[39mget_loc(casted_key)\n\u001b[0;32m   3803\u001b[0m \u001b[38;5;28;01mexcept\u001b[39;00m \u001b[38;5;167;01mKeyError\u001b[39;00m \u001b[38;5;28;01mas\u001b[39;00m err:\n\u001b[1;32m-> 3804\u001b[0m     \u001b[38;5;28;01mraise\u001b[39;00m \u001b[38;5;167;01mKeyError\u001b[39;00m(key) \u001b[38;5;28;01mfrom\u001b[39;00m \u001b[38;5;21;01merr\u001b[39;00m\n\u001b[0;32m   3805\u001b[0m \u001b[38;5;28;01mexcept\u001b[39;00m \u001b[38;5;167;01mTypeError\u001b[39;00m:\n\u001b[0;32m   3806\u001b[0m     \u001b[38;5;66;03m# If we have a listlike key, _check_indexing_error will raise\u001b[39;00m\n\u001b[0;32m   3807\u001b[0m     \u001b[38;5;66;03m#  InvalidIndexError. Otherwise we fall through and re-raise\u001b[39;00m\n\u001b[0;32m   3808\u001b[0m     \u001b[38;5;66;03m#  the TypeError.\u001b[39;00m\n\u001b[0;32m   3809\u001b[0m     \u001b[38;5;28mself\u001b[39m\u001b[38;5;241m.\u001b[39m_check_indexing_error(key)\n",
      "\u001b[1;31mKeyError\u001b[0m: 'OT%'"
     ]
    },
    {
     "data": {
      "text/plain": [
       "<Figure size 1000x600 with 0 Axes>"
      ]
     },
     "metadata": {},
     "output_type": "display_data"
    }
   ],
   "source": [
    "from matplotlib import image\n",
    "\n",
    "# Import the logo image\n",
    "logo = plt.imread('CLIFE logo.png')\n",
    "\n",
    "# Increase the figure size\n",
    "plt.figure(figsize=(10, 6))\n",
    "\n",
    "# Create the bar chart using data3['OT%']\n",
    "plt.bar(data3['customer_id'], data3['OT%'])\n",
    "\n",
    "# Label the axes\n",
    "plt.xlabel('customer_id')\n",
    "plt.ylabel('OT%')\n",
    "\n",
    "# Set the y-axis limits\n",
    "plt.ylim(0, 100)\n",
    "\n",
    "# Add a title\n",
    "plt.title('On-Time Delivery Percentage by Customer')\n",
    "\n",
    "# Display the plot\n",
    "plt.show()\n"
   ]
  },
  {
   "cell_type": "code",
   "execution_count": null,
   "id": "64418bce",
   "metadata": {},
   "outputs": [],
   "source": []
  }
 ],
 "metadata": {
  "kernelspec": {
   "display_name": "Python 3 (ipykernel)",
   "language": "python",
   "name": "python3"
  },
  "language_info": {
   "codemirror_mode": {
    "name": "ipython",
    "version": 3
   },
   "file_extension": ".py",
   "mimetype": "text/x-python",
   "name": "python",
   "nbconvert_exporter": "python",
   "pygments_lexer": "ipython3",
   "version": "3.11.4"
  }
 },
 "nbformat": 4,
 "nbformat_minor": 5
}
